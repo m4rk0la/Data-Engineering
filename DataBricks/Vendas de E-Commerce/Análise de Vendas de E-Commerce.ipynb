{
 "cells": [
  {
   "cell_type": "markdown",
   "metadata": {
    "application/vnd.databricks.v1+cell": {
     "cellMetadata": {
      "byteLimit": 2048000,
      "rowLimit": 10000
     },
     "inputWidgets": {},
     "nuid": "dd44eeb5-095c-42fb-9904-79184575345a",
     "showTitle": false,
     "tableResultSettingsMap": {},
     "title": ""
    }
   },
   "source": [
    "## Ingestão de dados"
   ]
  },
  {
   "cell_type": "code",
   "execution_count": 0,
   "metadata": {
    "application/vnd.databricks.v1+cell": {
     "cellMetadata": {
      "byteLimit": 2048000,
      "rowLimit": 10000
     },
     "inputWidgets": {},
     "nuid": "016baa1e-ecd6-4e89-9e2e-0483355fe3d6",
     "showTitle": false,
     "tableResultSettingsMap": {},
     "title": ""
    }
   },
   "outputs": [
    {
     "output_type": "stream",
     "name": "stdout",
     "output_type": "stream",
     "text": [
      "root\n |-- InvoiceNo: string (nullable = true)\n |-- StockCode: string (nullable = true)\n |-- Description: string (nullable = true)\n |-- Quantity: long (nullable = true)\n |-- InvoiceDate: string (nullable = true)\n |-- UnitPrice: double (nullable = true)\n |-- CustomerID: long (nullable = true)\n |-- Country: string (nullable = true)\n\n+---------+---------+--------------------+--------+--------------+---------+----------+--------------+\n|InvoiceNo|StockCode|         Description|Quantity|   InvoiceDate|UnitPrice|CustomerID|       Country|\n+---------+---------+--------------------+--------+--------------+---------+----------+--------------+\n|   536365|   85123A|WHITE HANGING HEA...|       6|12/1/2010 8:26|     2.55|     17850|United Kingdom|\n|   536365|    71053| WHITE METAL LANTERN|       6|12/1/2010 8:26|     3.39|     17850|United Kingdom|\n|   536365|   84406B|CREAM CUPID HEART...|       8|12/1/2010 8:26|     2.75|     17850|United Kingdom|\n|   536365|   84029G|KNITTED UNION FLA...|       6|12/1/2010 8:26|     3.39|     17850|United Kingdom|\n|   536365|   84029E|RED WOOLLY HOTTIE...|       6|12/1/2010 8:26|     3.39|     17850|United Kingdom|\n+---------+---------+--------------------+--------+--------------+---------+----------+--------------+\nonly showing top 5 rows\n"
     ]
    }
   ],
   "source": [
    "# Importação do SparkSession\n",
    "from pyspark.sql import SparkSession\n",
    "\n",
    "#Criando uma sessão Spark\n",
    "spark = SparkSession.builder.appName(\"AnaliseVendas\").getOrCreate()\n",
    "\n",
    "caminho_arquivo = \"default.online_retail\"\n",
    "\n",
    "df_vendas = spark.read.table(caminho_arquivo)\n",
    "df_vendas.printSchema()\n",
    "df_vendas.show(5)\n"
   ]
  },
  {
   "cell_type": "markdown",
   "metadata": {
    "application/vnd.databricks.v1+cell": {
     "cellMetadata": {
      "byteLimit": 2048000,
      "rowLimit": 10000
     },
     "inputWidgets": {},
     "nuid": "81ddfe01-ebfd-4cbb-933f-bd024a4a060d",
     "showTitle": false,
     "tableResultSettingsMap": {},
     "title": ""
    }
   },
   "source": [
    "## Limpeza dos dados"
   ]
  },
  {
   "cell_type": "code",
   "execution_count": 0,
   "metadata": {
    "application/vnd.databricks.v1+cell": {
     "cellMetadata": {
      "byteLimit": 2048000,
      "rowLimit": 10000
     },
     "inputWidgets": {},
     "nuid": "6e743675-14e9-4082-96a0-d1e743a2bdc5",
     "showTitle": false,
     "tableResultSettingsMap": {},
     "title": ""
    }
   },
   "outputs": [
    {
     "output_type": "stream",
     "name": "stdout",
     "output_type": "stream",
     "text": [
      "--- DataFrame Origial ---\nNumero de linhas originais: 541909\n--- DataFrame Limpo ---\nNumero de linhas limpas: 392692\nroot\n |-- InvoiceNo: string (nullable = true)\n |-- StockCode: string (nullable = true)\n |-- Description: string (nullable = true)\n |-- Quantity: long (nullable = true)\n |-- InvoiceDate: timestamp (nullable = true)\n |-- UnitPrice: double (nullable = true)\n |-- CustomerID: long (nullable = true)\n |-- Country: string (nullable = true)\n\n+---------+---------+--------------------+--------+-------------------+---------+----------+--------------+\n|InvoiceNo|StockCode|         Description|Quantity|        InvoiceDate|UnitPrice|CustomerID|       Country|\n+---------+---------+--------------------+--------+-------------------+---------+----------+--------------+\n|   536365|   85123A|WHITE HANGING HEA...|       6|2010-12-01 08:26:00|     2.55|     17850|United Kingdom|\n|   536365|    71053| WHITE METAL LANTERN|       6|2010-12-01 08:26:00|     3.39|     17850|United Kingdom|\n|   536365|   84406B|CREAM CUPID HEART...|       8|2010-12-01 08:26:00|     2.75|     17850|United Kingdom|\n|   536365|   84029G|KNITTED UNION FLA...|       6|2010-12-01 08:26:00|     3.39|     17850|United Kingdom|\n|   536365|   84029E|RED WOOLLY HOTTIE...|       6|2010-12-01 08:26:00|     3.39|     17850|United Kingdom|\n+---------+---------+--------------------+--------+-------------------+---------+----------+--------------+\nonly showing top 5 rows\n"
     ]
    }
   ],
   "source": [
    "from pyspark.sql import functions as F\n",
    "\n",
    "print(\"--- DataFrame Origial ---\")\n",
    "print(f\"Numero de linhas originais: {df_vendas.count()}\")\n",
    "\n",
    "# 1. Tratar os valores nulos na coluna de ID\n",
    "df_limpo = df_vendas.na.drop(subset=[\"CustomerID\"])\n",
    "\n",
    "# 2. Corrigir a data de String para TimeStamp (análises temporais)\n",
    "df_limpo = df_limpo.withColumn(\"InvoiceDate\", F.to_timestamp(F.col(\"InvoiceDate\"), \"M/d/yyyy H:mm\"))\n",
    "\n",
    "# 3. Filtrar dados inválidos (valores negativos em Quantity e UnitPrice)\n",
    "df_limpo = df_limpo.filter((F.col(\"Quantity\") > 0) & (F.col(\"UnitPrice\") > 0))\n",
    "\n",
    "# 4. Remover linhas duplicadas\n",
    "df_limpo = df_limpo.dropDuplicates()\n",
    "\n",
    "print(\"--- DataFrame Limpo ---\")\n",
    "print(f\"Numero de linhas limpas: {df_limpo.count()}\")\n",
    "df_limpo.printSchema()\n",
    "df_limpo.show(5)\n",
    "\n"
   ]
  },
  {
   "cell_type": "code",
   "execution_count": 0,
   "metadata": {
    "application/vnd.databricks.v1+cell": {
     "cellMetadata": {
      "byteLimit": 2048000,
      "rowLimit": 10000
     },
     "inputWidgets": {},
     "nuid": "4a46f2e5-3736-40de-8eb4-0e191ff82346",
     "showTitle": false,
     "tableResultSettingsMap": {},
     "title": ""
    }
   },
   "outputs": [
    {
     "output_type": "stream",
     "name": "stdout",
     "output_type": "stream",
     "text": [
      "Porcentagem de linhas removidas: 27.54%\n"
     ]
    }
   ],
   "source": [
    "# Análise da porcentagem de linhas removidas\n",
    "x = 541909\n",
    "y = 392692\n",
    "print(f\"Porcentagem de linhas removidas: {round((x-y)/x*100,2)}%\")"
   ]
  },
  {
   "cell_type": "markdown",
   "metadata": {
    "application/vnd.databricks.v1+cell": {
     "cellMetadata": {
      "byteLimit": 2048000,
      "rowLimit": 10000
     },
     "inputWidgets": {},
     "nuid": "bc85ecec-9bcc-4dcb-90c1-6985a1eaad20",
     "showTitle": false,
     "tableResultSettingsMap": {},
     "title": ""
    }
   },
   "source": [
    "## Transformação dos dados"
   ]
  },
  {
   "cell_type": "code",
   "execution_count": 0,
   "metadata": {
    "application/vnd.databricks.v1+cell": {
     "cellMetadata": {
      "byteLimit": 2048000,
      "rowLimit": 10000
     },
     "inputWidgets": {},
     "nuid": "ffe6d6a9-c32c-4b19-8c5f-92dc627a716a",
     "showTitle": false,
     "tableResultSettingsMap": {},
     "title": ""
    }
   },
   "outputs": [
    {
     "output_type": "stream",
     "name": "stdout",
     "output_type": "stream",
     "text": [
      "--- Dataframe após transfomação ---\nroot\n |-- InvoiceNo: string (nullable = true)\n |-- StockCode: string (nullable = true)\n |-- Description: string (nullable = true)\n |-- Quantity: long (nullable = true)\n |-- InvoiceDate: timestamp (nullable = true)\n |-- UnitPrice: double (nullable = true)\n |-- CustomerID: long (nullable = true)\n |-- Country: string (nullable = true)\n |-- TotalPrice: double (nullable = true)\n |-- Year: integer (nullable = true)\n |-- Month: integer (nullable = true)\n\n+---------+---------+--------------------+--------+-------------------+---------+----------+--------------+------------------+----+-----+\n|InvoiceNo|StockCode|         Description|Quantity|        InvoiceDate|UnitPrice|CustomerID|       Country|        TotalPrice|Year|Month|\n+---------+---------+--------------------+--------+-------------------+---------+----------+--------------+------------------+----+-----+\n|   536365|   85123A|WHITE HANGING HEA...|       6|2010-12-01 08:26:00|     2.55|     17850|United Kingdom|15.299999999999999|2010|   12|\n|   536365|    71053| WHITE METAL LANTERN|       6|2010-12-01 08:26:00|     3.39|     17850|United Kingdom|             20.34|2010|   12|\n|   536365|   84406B|CREAM CUPID HEART...|       8|2010-12-01 08:26:00|     2.75|     17850|United Kingdom|              22.0|2010|   12|\n|   536365|   84029G|KNITTED UNION FLA...|       6|2010-12-01 08:26:00|     3.39|     17850|United Kingdom|             20.34|2010|   12|\n|   536365|   84029E|RED WOOLLY HOTTIE...|       6|2010-12-01 08:26:00|     3.39|     17850|United Kingdom|             20.34|2010|   12|\n+---------+---------+--------------------+--------+-------------------+---------+----------+--------------+------------------+----+-----+\nonly showing top 5 rows\n\n --- Top 10 produtos mais vendidos ---\n+----------------------------------+------------------+\n|Description                       |TotalRevenue      |\n+----------------------------------+------------------+\n|PAPER CRAFT , LITTLE BIRDIE       |168469.6          |\n|REGENCY CAKESTAND 3 TIER          |142264.74999999965|\n|WHITE HANGING HEART T-LIGHT HOLDER|100392.09999999868|\n|JUMBO BAG RED RETROSPOT           |85040.54000000191 |\n|MEDIUM CERAMIC TOP STORAGE JAR    |81416.72999999995 |\n|POSTAGE                           |77803.95999999999 |\n|PARTY BUNTING                     |68785.23000000037 |\n|ASSORTED COLOUR BIRD ORNAMENT     |56413.0299999996  |\n|Manual                            |53419.929999999964|\n|RABBIT NIGHT LIGHT                |51251.240000000114|\n+----------------------------------+------------------+\nonly showing top 10 rows\n\n --- Receita total por mês ---\n+----+-----+------------------+\n|Year|Month|    MonthlyRevenue|\n+----+-----+------------------+\n|2010|   12| 570422.7300000167|\n|2011|    1|  568101.310000008|\n|2011|    2|446084.92000001646|\n|2011|    3| 594081.7600000132|\n|2011|    4|468374.33100001334|\n|2011|    5| 677355.1500000017|\n|2011|    6| 660046.0500000116|\n|2011|    7|  598962.901000014|\n|2011|    8| 644051.0400000094|\n|2011|    9|  950690.201999996|\n|2011|   10|1035642.4499999835|\n|2011|   11|1156205.6099999472|\n|2011|   12|517190.44000000326|\n+----+-----+------------------+\n\n"
     ]
    }
   ],
   "source": [
    "# -- 1. Criando novas colunas --\n",
    "\n",
    "# a. Adicionando coluna de preço total e extraindo o ano e mês da coluna data\n",
    "df_transformado = (df_limpo\n",
    "    .withColumn(\"TotalPrice\", F.col(\"Quantity\") * F.col(\"UnitPrice\"))\n",
    "    .withColumn(\"Year\", F.year(F.col(\"InvoiceDate\")))\n",
    "    .withColumn(\"Month\", F.month(F.col(\"InvoiceDate\")))\n",
    ")\n",
    "\n",
    "print(\"--- Dataframe após transfomação ---\")\n",
    "df_transformado.printSchema()\n",
    "df_transformado.show(5)\n",
    "\n",
    "# -- 2. Agregação para Análise ---\n",
    "\n",
    "# a. Calculando a receita total por produto\n",
    "df_total_produto =  (\n",
    "    df_transformado\n",
    "    .groupBy(\"Description\")\n",
    "    .agg(F.sum(\"TotalPrice\").alias(\"TotalRevenue\"))\n",
    ")\n",
    "\n",
    "# b. Encontrando os 10 produtos mais vendidos\n",
    "print(\"\\n --- Top 10 produtos mais vendidos ---\")\n",
    "df_total_produto.orderBy(F.col(\"TotalRevenue\").desc()).show(10, truncate=False)\n",
    "\n",
    "# c. Calculando a receita total por mês\n",
    "df_total_mes = df_transformado.groupBy(\"Year\",\"Month\"). agg(F.sum(\"TotalPrice\").alias(\"MonthlyRevenue\"))\n",
    "\n",
    "print(\"\\n --- Receita total por mês ---\")\n",
    "df_total_mes.orderBy(\"Year\",\"Month\").show()"
   ]
  },
  {
   "cell_type": "code",
   "execution_count": 0,
   "metadata": {
    "application/vnd.databricks.v1+cell": {
     "cellMetadata": {
      "byteLimit": 2048000,
      "rowLimit": 10000
     },
     "inputWidgets": {},
     "nuid": "be4a5550-37f3-411f-8fda-6fe52360170a",
     "showTitle": false,
     "tableResultSettingsMap": {},
     "title": ""
    }
   },
   "outputs": [
    {
     "output_type": "stream",
     "name": "stdout",
     "output_type": "stream",
     "text": [
      "+----+\n|Year|\n+----+\n|2010|\n|2011|\n+----+\n\n"
     ]
    }
   ],
   "source": [
    "df_total_mes.select(\"Year\").distinct().show()"
   ]
  },
  {
   "cell_type": "markdown",
   "metadata": {
    "application/vnd.databricks.v1+cell": {
     "cellMetadata": {
      "byteLimit": 2048000,
      "rowLimit": 10000
     },
     "inputWidgets": {},
     "nuid": "78a7d5c6-b18d-4c46-9417-89e906a06bb5",
     "showTitle": false,
     "tableResultSettingsMap": {},
     "title": ""
    }
   },
   "source": [
    "## Visualização"
   ]
  },
  {
   "cell_type": "code",
   "execution_count": 0,
   "metadata": {
    "application/vnd.databricks.v1+cell": {
     "cellMetadata": {
      "byteLimit": 2048000,
      "rowLimit": 10000
     },
     "inputWidgets": {},
     "nuid": "73898712-88f4-4f39-99c0-aded8201d50c",
     "showTitle": false,
     "tableResultSettingsMap": {},
     "title": ""
    }
   },
   "outputs": [
    {
     "output_type": "display_data",
     "data": {
      "image/png": "[encoded data removed]",
      "text/plain": [
       "<Figure size 1200x600 with 1 Axes>"
      ]
     },
     "metadata": {},
     "output_type": "display_data"
    }
   ],
   "source": [
    "import matplotlib.pyplot as plt\n",
    "\n",
    "# Converter o Spark DataFrame para um Pandas DataFrame (apenas para visualização local)\n",
    "df_total_mes_2011 = df_total_mes.filter(F.col(\"Year\") == 2011)\n",
    "df_total_mes_pandas = df_total_mes_2011.toPandas()\n",
    "media_mensal = df_total_mes_pandas[\"MonthlyRevenue\"].mean()\n",
    "\n",
    "# Criar o gráfico\n",
    "plt.figure(figsize=(12, 6))\n",
    "plt.plot(\n",
    "    df_total_mes_pandas[\"Month\"],\n",
    "    df_total_mes_pandas[\"MonthlyRevenue\"],\n",
    "    color=\"red\",\n",
    "    label=\"Receita Mensal\"\n",
    ")\n",
    "plt.axhline(\n",
    "    y=media_mensal,\n",
    "    color=\"blue\",\n",
    "    linestyle=\"--\",\n",
    "    label=\"Receita Média Mensal\"\n",
    ")\n",
    "plt.title(\"Receita Total por Mês em 2011 (Ano mais recente)\")\n",
    "plt.xlabel(\"Mês\")\n",
    "plt.ylabel(\"Receita Mensal\")\n",
    "plt.grid(True)\n",
    "plt.legend()\n",
    "plt.show()"
   ]
  },
  {
   "cell_type": "markdown",
   "metadata": {
    "application/vnd.databricks.v1+cell": {
     "cellMetadata": {
      "byteLimit": 2048000,
      "rowLimit": 10000
     },
     "inputWidgets": {},
     "nuid": "3a4e17c5-3fc7-4a4f-a508-f01426df66e0",
     "showTitle": false,
     "tableResultSettingsMap": {},
     "title": ""
    }
   },
   "source": [
    "## Análise\n",
    "\n",
    "-> Com a criação do gráfico é possivel ver que existe uma forte sazonalidade nas vendas, a receita flutua bastante ao longo do ano, com um crescimento notável no segundo semestre.\n",
    "\n",
    "-> Ocorre um forte pico de vendas no mês 11, isso evidência que a empresa se beneficia de eventos de fim de ano como a Black Friday, que costuma ocorrer em Novembro.\n",
    "\n",
    "-> Queda pós-pico, em Dezembro ocorre uma queda abrupta, sendo um ponto de partida para futuras explorações.\n",
    "\n",
    "-> Existe uma janela de foco do Marketing nos meses de baixo desempenho e a necessidade de otimizar as operações para atender a alta demanda nos meses 10 e 11."
   ]
  }
 ],
 "metadata": {
  "application/vnd.databricks.v1+notebook": {
   "computePreferences": null,
   "dashboards": [],
   "environmentMetadata": {
    "base_environment": "",
    "environment_version": "3"
   },
   "inputWidgetPreferences": null,
   "language": "python",
   "notebookMetadata": {
    "pythonIndentUnit": 4
   },
   "notebookName": "Análise de Vendas de E-Commerce",
   "widgets": {}
  },
  "language_info": {
   "name": "python"
  }
 },
 "nbformat": 4,
 "nbformat_minor": 0
}